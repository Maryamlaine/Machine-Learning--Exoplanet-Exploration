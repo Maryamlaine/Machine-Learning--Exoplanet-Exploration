{
 "cells": [
  {
   "cell_type": "code",
   "execution_count": 1,
   "metadata": {},
   "outputs": [
    {
     "name": "stdout",
     "output_type": "stream",
     "text": [
      "Requirement already up-to-date: sklearn in c:\\users\\home laptop\\anaconda3\\lib\\site-packages (0.0)\n",
      "Requirement already satisfied, skipping upgrade: scikit-learn in c:\\users\\home laptop\\anaconda3\\lib\\site-packages (from sklearn) (0.21.3)\n",
      "Requirement already satisfied, skipping upgrade: numpy>=1.11.0 in c:\\users\\home laptop\\anaconda3\\lib\\site-packages (from scikit-learn->sklearn) (1.16.5)\n",
      "Requirement already satisfied, skipping upgrade: scipy>=0.17.0 in c:\\users\\home laptop\\anaconda3\\lib\\site-packages (from scikit-learn->sklearn) (1.4.1)\n",
      "Requirement already satisfied, skipping upgrade: joblib>=0.11 in c:\\users\\home laptop\\anaconda3\\lib\\site-packages (from scikit-learn->sklearn) (0.13.2)\n"
     ]
    }
   ],
   "source": [
    "!pip install sklearn --upgrade"
   ]
  },
  {
   "cell_type": "code",
   "execution_count": 2,
   "metadata": {},
   "outputs": [
    {
     "name": "stdout",
     "output_type": "stream",
     "text": [
      "Requirement already satisfied: joblib in c:\\users\\home laptop\\anaconda3\\lib\\site-packages (0.13.2)\n"
     ]
    }
   ],
   "source": [
    "# install joblib. This will be used to save your model. \n",
    "# Restart your kernel after installing \n",
    "!pip install joblib"
   ]
  },
  {
   "cell_type": "code",
   "execution_count": 3,
   "metadata": {},
   "outputs": [],
   "source": [
    "from numpy.random import seed\n",
    "seed(1)\n",
    "import pandas as pd\n",
    "import numpy as np\n",
    "import matplotlib.pyplot as plt"
   ]
  },
  {
   "cell_type": "markdown",
   "metadata": {},
   "source": [
    "# Read the CSV and Perform Basic Data Cleaning"
   ]
  },
  {
   "cell_type": "code",
   "execution_count": 4,
   "metadata": {},
   "outputs": [
    {
     "data": {
      "text/html": [
       "<div>\n",
       "<style scoped>\n",
       "    .dataframe tbody tr th:only-of-type {\n",
       "        vertical-align: middle;\n",
       "    }\n",
       "\n",
       "    .dataframe tbody tr th {\n",
       "        vertical-align: top;\n",
       "    }\n",
       "\n",
       "    .dataframe thead th {\n",
       "        text-align: right;\n",
       "    }\n",
       "</style>\n",
       "<table border=\"1\" class=\"dataframe\">\n",
       "  <thead>\n",
       "    <tr style=\"text-align: right;\">\n",
       "      <th></th>\n",
       "      <th>koi_disposition</th>\n",
       "      <th>koi_fpflag_nt</th>\n",
       "      <th>koi_fpflag_ss</th>\n",
       "      <th>koi_fpflag_co</th>\n",
       "      <th>koi_fpflag_ec</th>\n",
       "      <th>koi_period</th>\n",
       "      <th>koi_period_err1</th>\n",
       "      <th>koi_period_err2</th>\n",
       "      <th>koi_time0bk</th>\n",
       "      <th>koi_time0bk_err1</th>\n",
       "      <th>...</th>\n",
       "      <th>koi_steff_err2</th>\n",
       "      <th>koi_slogg</th>\n",
       "      <th>koi_slogg_err1</th>\n",
       "      <th>koi_slogg_err2</th>\n",
       "      <th>koi_srad</th>\n",
       "      <th>koi_srad_err1</th>\n",
       "      <th>koi_srad_err2</th>\n",
       "      <th>ra</th>\n",
       "      <th>dec</th>\n",
       "      <th>koi_kepmag</th>\n",
       "    </tr>\n",
       "  </thead>\n",
       "  <tbody>\n",
       "    <tr>\n",
       "      <th>0</th>\n",
       "      <td>CONFIRMED</td>\n",
       "      <td>0</td>\n",
       "      <td>0</td>\n",
       "      <td>0</td>\n",
       "      <td>0</td>\n",
       "      <td>54.418383</td>\n",
       "      <td>2.479000e-04</td>\n",
       "      <td>-2.479000e-04</td>\n",
       "      <td>162.513840</td>\n",
       "      <td>0.003520</td>\n",
       "      <td>...</td>\n",
       "      <td>-81</td>\n",
       "      <td>4.467</td>\n",
       "      <td>0.064</td>\n",
       "      <td>-0.096</td>\n",
       "      <td>0.927</td>\n",
       "      <td>0.105</td>\n",
       "      <td>-0.061</td>\n",
       "      <td>291.93423</td>\n",
       "      <td>48.141651</td>\n",
       "      <td>15.347</td>\n",
       "    </tr>\n",
       "    <tr>\n",
       "      <th>1</th>\n",
       "      <td>FALSE POSITIVE</td>\n",
       "      <td>0</td>\n",
       "      <td>1</td>\n",
       "      <td>0</td>\n",
       "      <td>0</td>\n",
       "      <td>19.899140</td>\n",
       "      <td>1.490000e-05</td>\n",
       "      <td>-1.490000e-05</td>\n",
       "      <td>175.850252</td>\n",
       "      <td>0.000581</td>\n",
       "      <td>...</td>\n",
       "      <td>-176</td>\n",
       "      <td>4.544</td>\n",
       "      <td>0.044</td>\n",
       "      <td>-0.176</td>\n",
       "      <td>0.868</td>\n",
       "      <td>0.233</td>\n",
       "      <td>-0.078</td>\n",
       "      <td>297.00482</td>\n",
       "      <td>48.134129</td>\n",
       "      <td>15.436</td>\n",
       "    </tr>\n",
       "    <tr>\n",
       "      <th>2</th>\n",
       "      <td>FALSE POSITIVE</td>\n",
       "      <td>0</td>\n",
       "      <td>1</td>\n",
       "      <td>0</td>\n",
       "      <td>0</td>\n",
       "      <td>1.736952</td>\n",
       "      <td>2.630000e-07</td>\n",
       "      <td>-2.630000e-07</td>\n",
       "      <td>170.307565</td>\n",
       "      <td>0.000115</td>\n",
       "      <td>...</td>\n",
       "      <td>-174</td>\n",
       "      <td>4.564</td>\n",
       "      <td>0.053</td>\n",
       "      <td>-0.168</td>\n",
       "      <td>0.791</td>\n",
       "      <td>0.201</td>\n",
       "      <td>-0.067</td>\n",
       "      <td>285.53461</td>\n",
       "      <td>48.285210</td>\n",
       "      <td>15.597</td>\n",
       "    </tr>\n",
       "    <tr>\n",
       "      <th>3</th>\n",
       "      <td>CONFIRMED</td>\n",
       "      <td>0</td>\n",
       "      <td>0</td>\n",
       "      <td>0</td>\n",
       "      <td>0</td>\n",
       "      <td>2.525592</td>\n",
       "      <td>3.760000e-06</td>\n",
       "      <td>-3.760000e-06</td>\n",
       "      <td>171.595550</td>\n",
       "      <td>0.001130</td>\n",
       "      <td>...</td>\n",
       "      <td>-211</td>\n",
       "      <td>4.438</td>\n",
       "      <td>0.070</td>\n",
       "      <td>-0.210</td>\n",
       "      <td>1.046</td>\n",
       "      <td>0.334</td>\n",
       "      <td>-0.133</td>\n",
       "      <td>288.75488</td>\n",
       "      <td>48.226200</td>\n",
       "      <td>15.509</td>\n",
       "    </tr>\n",
       "    <tr>\n",
       "      <th>4</th>\n",
       "      <td>CONFIRMED</td>\n",
       "      <td>0</td>\n",
       "      <td>0</td>\n",
       "      <td>0</td>\n",
       "      <td>0</td>\n",
       "      <td>4.134435</td>\n",
       "      <td>1.050000e-05</td>\n",
       "      <td>-1.050000e-05</td>\n",
       "      <td>172.979370</td>\n",
       "      <td>0.001900</td>\n",
       "      <td>...</td>\n",
       "      <td>-232</td>\n",
       "      <td>4.486</td>\n",
       "      <td>0.054</td>\n",
       "      <td>-0.229</td>\n",
       "      <td>0.972</td>\n",
       "      <td>0.315</td>\n",
       "      <td>-0.105</td>\n",
       "      <td>296.28613</td>\n",
       "      <td>48.224670</td>\n",
       "      <td>15.714</td>\n",
       "    </tr>\n",
       "  </tbody>\n",
       "</table>\n",
       "<p>5 rows × 41 columns</p>\n",
       "</div>"
      ],
      "text/plain": [
       "  koi_disposition  koi_fpflag_nt  koi_fpflag_ss  koi_fpflag_co  koi_fpflag_ec  \\\n",
       "0       CONFIRMED              0              0              0              0   \n",
       "1  FALSE POSITIVE              0              1              0              0   \n",
       "2  FALSE POSITIVE              0              1              0              0   \n",
       "3       CONFIRMED              0              0              0              0   \n",
       "4       CONFIRMED              0              0              0              0   \n",
       "\n",
       "   koi_period  koi_period_err1  koi_period_err2  koi_time0bk  \\\n",
       "0   54.418383     2.479000e-04    -2.479000e-04   162.513840   \n",
       "1   19.899140     1.490000e-05    -1.490000e-05   175.850252   \n",
       "2    1.736952     2.630000e-07    -2.630000e-07   170.307565   \n",
       "3    2.525592     3.760000e-06    -3.760000e-06   171.595550   \n",
       "4    4.134435     1.050000e-05    -1.050000e-05   172.979370   \n",
       "\n",
       "   koi_time0bk_err1  ...  koi_steff_err2  koi_slogg  koi_slogg_err1  \\\n",
       "0          0.003520  ...             -81      4.467           0.064   \n",
       "1          0.000581  ...            -176      4.544           0.044   \n",
       "2          0.000115  ...            -174      4.564           0.053   \n",
       "3          0.001130  ...            -211      4.438           0.070   \n",
       "4          0.001900  ...            -232      4.486           0.054   \n",
       "\n",
       "   koi_slogg_err2  koi_srad  koi_srad_err1  koi_srad_err2         ra  \\\n",
       "0          -0.096     0.927          0.105         -0.061  291.93423   \n",
       "1          -0.176     0.868          0.233         -0.078  297.00482   \n",
       "2          -0.168     0.791          0.201         -0.067  285.53461   \n",
       "3          -0.210     1.046          0.334         -0.133  288.75488   \n",
       "4          -0.229     0.972          0.315         -0.105  296.28613   \n",
       "\n",
       "         dec  koi_kepmag  \n",
       "0  48.141651      15.347  \n",
       "1  48.134129      15.436  \n",
       "2  48.285210      15.597  \n",
       "3  48.226200      15.509  \n",
       "4  48.224670      15.714  \n",
       "\n",
       "[5 rows x 41 columns]"
      ]
     },
     "execution_count": 4,
     "metadata": {},
     "output_type": "execute_result"
    }
   ],
   "source": [
    "df = pd.read_csv(\"exoplanet_data.csv\")\n",
    "# Drop the null columns where all values are null\n",
    "df = df.dropna(axis='columns', how='all')\n",
    "# Drop the null rows\n",
    "df = df.dropna()\n",
    "df.head()"
   ]
  },
  {
   "cell_type": "markdown",
   "metadata": {},
   "source": [
    "# Select your features (columns)"
   ]
  },
  {
   "cell_type": "code",
   "execution_count": 5,
   "metadata": {},
   "outputs": [
    {
     "data": {
      "text/html": [
       "<div>\n",
       "<style scoped>\n",
       "    .dataframe tbody tr th:only-of-type {\n",
       "        vertical-align: middle;\n",
       "    }\n",
       "\n",
       "    .dataframe tbody tr th {\n",
       "        vertical-align: top;\n",
       "    }\n",
       "\n",
       "    .dataframe thead th {\n",
       "        text-align: right;\n",
       "    }\n",
       "</style>\n",
       "<table border=\"1\" class=\"dataframe\">\n",
       "  <thead>\n",
       "    <tr style=\"text-align: right;\">\n",
       "      <th></th>\n",
       "      <th>koi_disposition</th>\n",
       "      <th>koi_impact</th>\n",
       "      <th>koi_duration</th>\n",
       "      <th>koi_depth</th>\n",
       "      <th>koi_prad</th>\n",
       "      <th>koi_teq</th>\n",
       "      <th>koi_insol</th>\n",
       "      <th>koi_model_snr</th>\n",
       "    </tr>\n",
       "  </thead>\n",
       "  <tbody>\n",
       "    <tr>\n",
       "      <th>0</th>\n",
       "      <td>CONFIRMED</td>\n",
       "      <td>0.586</td>\n",
       "      <td>4.50700</td>\n",
       "      <td>874.8</td>\n",
       "      <td>2.83</td>\n",
       "      <td>443</td>\n",
       "      <td>9.11</td>\n",
       "      <td>25.8</td>\n",
       "    </tr>\n",
       "    <tr>\n",
       "      <th>1</th>\n",
       "      <td>FALSE POSITIVE</td>\n",
       "      <td>0.969</td>\n",
       "      <td>1.78220</td>\n",
       "      <td>10829.0</td>\n",
       "      <td>14.60</td>\n",
       "      <td>638</td>\n",
       "      <td>39.30</td>\n",
       "      <td>76.3</td>\n",
       "    </tr>\n",
       "    <tr>\n",
       "      <th>2</th>\n",
       "      <td>FALSE POSITIVE</td>\n",
       "      <td>1.276</td>\n",
       "      <td>2.40641</td>\n",
       "      <td>8079.2</td>\n",
       "      <td>33.46</td>\n",
       "      <td>1395</td>\n",
       "      <td>891.96</td>\n",
       "      <td>505.6</td>\n",
       "    </tr>\n",
       "    <tr>\n",
       "      <th>3</th>\n",
       "      <td>CONFIRMED</td>\n",
       "      <td>0.701</td>\n",
       "      <td>1.65450</td>\n",
       "      <td>603.3</td>\n",
       "      <td>2.75</td>\n",
       "      <td>1406</td>\n",
       "      <td>926.16</td>\n",
       "      <td>40.9</td>\n",
       "    </tr>\n",
       "    <tr>\n",
       "      <th>4</th>\n",
       "      <td>CONFIRMED</td>\n",
       "      <td>0.762</td>\n",
       "      <td>3.14020</td>\n",
       "      <td>686.0</td>\n",
       "      <td>2.77</td>\n",
       "      <td>1160</td>\n",
       "      <td>427.65</td>\n",
       "      <td>40.2</td>\n",
       "    </tr>\n",
       "    <tr>\n",
       "      <th>...</th>\n",
       "      <td>...</td>\n",
       "      <td>...</td>\n",
       "      <td>...</td>\n",
       "      <td>...</td>\n",
       "      <td>...</td>\n",
       "      <td>...</td>\n",
       "      <td>...</td>\n",
       "      <td>...</td>\n",
       "    </tr>\n",
       "    <tr>\n",
       "      <th>6983</th>\n",
       "      <td>FALSE POSITIVE</td>\n",
       "      <td>2.441</td>\n",
       "      <td>77.98300</td>\n",
       "      <td>1583.8</td>\n",
       "      <td>534.47</td>\n",
       "      <td>1006</td>\n",
       "      <td>242.54</td>\n",
       "      <td>171.5</td>\n",
       "    </tr>\n",
       "    <tr>\n",
       "      <th>6986</th>\n",
       "      <td>FALSE POSITIVE</td>\n",
       "      <td>0.765</td>\n",
       "      <td>4.80600</td>\n",
       "      <td>87.7</td>\n",
       "      <td>1.11</td>\n",
       "      <td>929</td>\n",
       "      <td>176.40</td>\n",
       "      <td>8.4</td>\n",
       "    </tr>\n",
       "    <tr>\n",
       "      <th>6987</th>\n",
       "      <td>FALSE POSITIVE</td>\n",
       "      <td>1.252</td>\n",
       "      <td>3.22210</td>\n",
       "      <td>1579.2</td>\n",
       "      <td>29.35</td>\n",
       "      <td>2088</td>\n",
       "      <td>4500.53</td>\n",
       "      <td>453.3</td>\n",
       "    </tr>\n",
       "    <tr>\n",
       "      <th>6989</th>\n",
       "      <td>FALSE POSITIVE</td>\n",
       "      <td>0.147</td>\n",
       "      <td>0.86500</td>\n",
       "      <td>103.6</td>\n",
       "      <td>1.07</td>\n",
       "      <td>2218</td>\n",
       "      <td>5713.41</td>\n",
       "      <td>12.3</td>\n",
       "    </tr>\n",
       "    <tr>\n",
       "      <th>6990</th>\n",
       "      <td>FALSE POSITIVE</td>\n",
       "      <td>0.134</td>\n",
       "      <td>3.07800</td>\n",
       "      <td>76.7</td>\n",
       "      <td>1.05</td>\n",
       "      <td>1266</td>\n",
       "      <td>607.42</td>\n",
       "      <td>8.2</td>\n",
       "    </tr>\n",
       "  </tbody>\n",
       "</table>\n",
       "<p>5304 rows × 8 columns</p>\n",
       "</div>"
      ],
      "text/plain": [
       "     koi_disposition  koi_impact  koi_duration  koi_depth  koi_prad  koi_teq  \\\n",
       "0          CONFIRMED       0.586       4.50700      874.8      2.83      443   \n",
       "1     FALSE POSITIVE       0.969       1.78220    10829.0     14.60      638   \n",
       "2     FALSE POSITIVE       1.276       2.40641     8079.2     33.46     1395   \n",
       "3          CONFIRMED       0.701       1.65450      603.3      2.75     1406   \n",
       "4          CONFIRMED       0.762       3.14020      686.0      2.77     1160   \n",
       "...              ...         ...           ...        ...       ...      ...   \n",
       "6983  FALSE POSITIVE       2.441      77.98300     1583.8    534.47     1006   \n",
       "6986  FALSE POSITIVE       0.765       4.80600       87.7      1.11      929   \n",
       "6987  FALSE POSITIVE       1.252       3.22210     1579.2     29.35     2088   \n",
       "6989  FALSE POSITIVE       0.147       0.86500      103.6      1.07     2218   \n",
       "6990  FALSE POSITIVE       0.134       3.07800       76.7      1.05     1266   \n",
       "\n",
       "      koi_insol  koi_model_snr  \n",
       "0          9.11           25.8  \n",
       "1         39.30           76.3  \n",
       "2        891.96          505.6  \n",
       "3        926.16           40.9  \n",
       "4        427.65           40.2  \n",
       "...         ...            ...  \n",
       "6983     242.54          171.5  \n",
       "6986     176.40            8.4  \n",
       "6987    4500.53          453.3  \n",
       "6989    5713.41           12.3  \n",
       "6990     607.42            8.2  \n",
       "\n",
       "[5304 rows x 8 columns]"
      ]
     },
     "execution_count": 5,
     "metadata": {},
     "output_type": "execute_result"
    }
   ],
   "source": [
    "# Set features. This will also be used as your x values.\n",
    "selected_features = df[['koi_disposition','koi_impact','koi_duration','koi_depth','koi_prad','koi_teq','koi_insol','koi_model_snr']]\n",
    "selected_features = selected_features[selected_features['koi_disposition']!='CANDIDATE']\n",
    "# selected_features['koi_disposition'] = selected_features['koi_disposition'].map({'CONFIRMED': 1, 'FALSE POSITIVE':2})\n",
    "selected_features"
   ]
  },
  {
   "cell_type": "code",
   "execution_count": 6,
   "metadata": {},
   "outputs": [],
   "source": [
    "# Read the training data into a dataframe\n",
    "X = selected_features[['koi_impact','koi_duration','koi_depth','koi_prad','koi_teq','koi_insol','koi_model_snr']]\n",
    "y = selected_features['koi_disposition']"
   ]
  },
  {
   "cell_type": "code",
   "execution_count": 7,
   "metadata": {},
   "outputs": [
    {
     "data": {
      "text/plain": [
       "Index(['koi_impact', 'koi_duration', 'koi_depth', 'koi_prad', 'koi_teq',\n",
       "       'koi_insol', 'koi_model_snr'],\n",
       "      dtype='object')"
      ]
     },
     "execution_count": 7,
     "metadata": {},
     "output_type": "execute_result"
    }
   ],
   "source": [
    "#columns\n",
    "feature_names = selected_features.columns[1:8]\n",
    "feature_names"
   ]
  },
  {
   "cell_type": "markdown",
   "metadata": {},
   "source": [
    "# Create a Train Test Split"
   ]
  },
  {
   "cell_type": "code",
   "execution_count": 8,
   "metadata": {},
   "outputs": [],
   "source": [
    "# Use train_test_split to create training and testing data\n",
    "from sklearn.model_selection import train_test_split,cross_val_score\n",
    "\n",
    "X_train, X_test, y_train, y_test = train_test_split(X, y, random_state=1, stratify=y, test_size=0.3)"
   ]
  },
  {
   "cell_type": "code",
   "execution_count": 9,
   "metadata": {},
   "outputs": [
    {
     "data": {
      "text/html": [
       "<div>\n",
       "<style scoped>\n",
       "    .dataframe tbody tr th:only-of-type {\n",
       "        vertical-align: middle;\n",
       "    }\n",
       "\n",
       "    .dataframe tbody tr th {\n",
       "        vertical-align: top;\n",
       "    }\n",
       "\n",
       "    .dataframe thead th {\n",
       "        text-align: right;\n",
       "    }\n",
       "</style>\n",
       "<table border=\"1\" class=\"dataframe\">\n",
       "  <thead>\n",
       "    <tr style=\"text-align: right;\">\n",
       "      <th></th>\n",
       "      <th>koi_impact</th>\n",
       "      <th>koi_duration</th>\n",
       "      <th>koi_depth</th>\n",
       "      <th>koi_prad</th>\n",
       "      <th>koi_teq</th>\n",
       "      <th>koi_insol</th>\n",
       "      <th>koi_model_snr</th>\n",
       "    </tr>\n",
       "  </thead>\n",
       "  <tbody>\n",
       "    <tr>\n",
       "      <th>2681</th>\n",
       "      <td>0.7710</td>\n",
       "      <td>6.55300</td>\n",
       "      <td>62.1</td>\n",
       "      <td>0.95</td>\n",
       "      <td>691</td>\n",
       "      <td>54.06</td>\n",
       "      <td>18.8</td>\n",
       "    </tr>\n",
       "    <tr>\n",
       "      <th>1878</th>\n",
       "      <td>0.2810</td>\n",
       "      <td>1.74070</td>\n",
       "      <td>178.4</td>\n",
       "      <td>1.04</td>\n",
       "      <td>1731</td>\n",
       "      <td>2129.33</td>\n",
       "      <td>43.0</td>\n",
       "    </tr>\n",
       "    <tr>\n",
       "      <th>460</th>\n",
       "      <td>0.8660</td>\n",
       "      <td>3.08220</td>\n",
       "      <td>421.6</td>\n",
       "      <td>2.41</td>\n",
       "      <td>777</td>\n",
       "      <td>86.28</td>\n",
       "      <td>24.6</td>\n",
       "    </tr>\n",
       "    <tr>\n",
       "      <th>4995</th>\n",
       "      <td>0.0655</td>\n",
       "      <td>14.56000</td>\n",
       "      <td>44.7</td>\n",
       "      <td>1.50</td>\n",
       "      <td>809</td>\n",
       "      <td>101.17</td>\n",
       "      <td>5.3</td>\n",
       "    </tr>\n",
       "    <tr>\n",
       "      <th>5495</th>\n",
       "      <td>0.3880</td>\n",
       "      <td>3.20209</td>\n",
       "      <td>400010.0</td>\n",
       "      <td>47.81</td>\n",
       "      <td>1313</td>\n",
       "      <td>701.93</td>\n",
       "      <td>1095.9</td>\n",
       "    </tr>\n",
       "  </tbody>\n",
       "</table>\n",
       "</div>"
      ],
      "text/plain": [
       "      koi_impact  koi_duration  koi_depth  koi_prad  koi_teq  koi_insol  \\\n",
       "2681      0.7710       6.55300       62.1      0.95      691      54.06   \n",
       "1878      0.2810       1.74070      178.4      1.04     1731    2129.33   \n",
       "460       0.8660       3.08220      421.6      2.41      777      86.28   \n",
       "4995      0.0655      14.56000       44.7      1.50      809     101.17   \n",
       "5495      0.3880       3.20209   400010.0     47.81     1313     701.93   \n",
       "\n",
       "      koi_model_snr  \n",
       "2681           18.8  \n",
       "1878           43.0  \n",
       "460            24.6  \n",
       "4995            5.3  \n",
       "5495         1095.9  "
      ]
     },
     "execution_count": 9,
     "metadata": {},
     "output_type": "execute_result"
    }
   ],
   "source": [
    "X_train.head()"
   ]
  },
  {
   "cell_type": "markdown",
   "metadata": {},
   "source": [
    "# Pre-processing\n",
    "Scale the data using the MinMaxScaler and perform some feature selection"
   ]
  },
  {
   "cell_type": "code",
   "execution_count": 10,
   "metadata": {},
   "outputs": [],
   "source": [
    "from sklearn.preprocessing import MinMaxScaler,normalize\n",
    "from tensorflow.keras.utils import to_categorical"
   ]
  },
  {
   "cell_type": "code",
   "execution_count": 11,
   "metadata": {},
   "outputs": [],
   "source": [
    "# Scale your data\n",
    "# Create a MinMaxScaler model and fit it to the training data\n",
    "X_scaler = MinMaxScaler().fit(X_train)\n",
    "\n",
    "# Transform the training and testing data using the X_scaler\n",
    "\n",
    "X_train_scaled = X_scaler.transform(X_train)\n",
    "X_test_scaled = X_scaler.transform(X_test)"
   ]
  },
  {
   "cell_type": "code",
   "execution_count": 12,
   "metadata": {},
   "outputs": [],
   "source": [
    "# from tensorflow.keras.utils import to_categorical\n",
    "# # One-hot encoding\n",
    "# y_train_categorical = to_categorical(y_train)\n",
    "# y_test_categorical = to_categorical(y_test)"
   ]
  },
  {
   "cell_type": "code",
   "execution_count": 13,
   "metadata": {},
   "outputs": [],
   "source": [
    "from sklearn.ensemble import RandomForestClassifier\n",
    "rf = RandomForestClassifier(n_estimators=200, min_impurity_decrease=0.0001)\n",
    "rf = rf.fit(X_train_scaled, y_train)"
   ]
  },
  {
   "cell_type": "markdown",
   "metadata": {},
   "source": [
    "# Train the Model"
   ]
  },
  {
   "cell_type": "code",
   "execution_count": 14,
   "metadata": {},
   "outputs": [
    {
     "name": "stdout",
     "output_type": "stream",
     "text": [
      "Training Data Score: 0.9881465517241379\n",
      "Testing Data Score: 0.9013819095477387\n"
     ]
    }
   ],
   "source": [
    "print(f\"Training Data Score: {rf.score(X_train_scaled, y_train)}\")\n",
    "print(f\"Testing Data Score: {rf.score(X_test_scaled, y_test)}\")"
   ]
  },
  {
   "cell_type": "code",
   "execution_count": 15,
   "metadata": {},
   "outputs": [
    {
     "data": {
      "text/html": [
       "<div>\n",
       "<style scoped>\n",
       "    .dataframe tbody tr th:only-of-type {\n",
       "        vertical-align: middle;\n",
       "    }\n",
       "\n",
       "    .dataframe tbody tr th {\n",
       "        vertical-align: top;\n",
       "    }\n",
       "\n",
       "    .dataframe thead th {\n",
       "        text-align: right;\n",
       "    }\n",
       "</style>\n",
       "<table border=\"1\" class=\"dataframe\">\n",
       "  <thead>\n",
       "    <tr style=\"text-align: right;\">\n",
       "      <th></th>\n",
       "      <th>Prediction</th>\n",
       "      <th>Actual</th>\n",
       "    </tr>\n",
       "  </thead>\n",
       "  <tbody>\n",
       "    <tr>\n",
       "      <th>5701</th>\n",
       "      <td>FALSE POSITIVE</td>\n",
       "      <td>FALSE POSITIVE</td>\n",
       "    </tr>\n",
       "    <tr>\n",
       "      <th>1407</th>\n",
       "      <td>CONFIRMED</td>\n",
       "      <td>CONFIRMED</td>\n",
       "    </tr>\n",
       "    <tr>\n",
       "      <th>3195</th>\n",
       "      <td>FALSE POSITIVE</td>\n",
       "      <td>FALSE POSITIVE</td>\n",
       "    </tr>\n",
       "    <tr>\n",
       "      <th>2848</th>\n",
       "      <td>FALSE POSITIVE</td>\n",
       "      <td>FALSE POSITIVE</td>\n",
       "    </tr>\n",
       "    <tr>\n",
       "      <th>2158</th>\n",
       "      <td>CONFIRMED</td>\n",
       "      <td>CONFIRMED</td>\n",
       "    </tr>\n",
       "    <tr>\n",
       "      <th>...</th>\n",
       "      <td>...</td>\n",
       "      <td>...</td>\n",
       "    </tr>\n",
       "    <tr>\n",
       "      <th>6566</th>\n",
       "      <td>FALSE POSITIVE</td>\n",
       "      <td>FALSE POSITIVE</td>\n",
       "    </tr>\n",
       "    <tr>\n",
       "      <th>4048</th>\n",
       "      <td>FALSE POSITIVE</td>\n",
       "      <td>FALSE POSITIVE</td>\n",
       "    </tr>\n",
       "    <tr>\n",
       "      <th>3430</th>\n",
       "      <td>FALSE POSITIVE</td>\n",
       "      <td>CONFIRMED</td>\n",
       "    </tr>\n",
       "    <tr>\n",
       "      <th>5383</th>\n",
       "      <td>FALSE POSITIVE</td>\n",
       "      <td>FALSE POSITIVE</td>\n",
       "    </tr>\n",
       "    <tr>\n",
       "      <th>6546</th>\n",
       "      <td>CONFIRMED</td>\n",
       "      <td>CONFIRMED</td>\n",
       "    </tr>\n",
       "  </tbody>\n",
       "</table>\n",
       "<p>1592 rows × 2 columns</p>\n",
       "</div>"
      ],
      "text/plain": [
       "          Prediction          Actual\n",
       "5701  FALSE POSITIVE  FALSE POSITIVE\n",
       "1407       CONFIRMED       CONFIRMED\n",
       "3195  FALSE POSITIVE  FALSE POSITIVE\n",
       "2848  FALSE POSITIVE  FALSE POSITIVE\n",
       "2158       CONFIRMED       CONFIRMED\n",
       "...              ...             ...\n",
       "6566  FALSE POSITIVE  FALSE POSITIVE\n",
       "4048  FALSE POSITIVE  FALSE POSITIVE\n",
       "3430  FALSE POSITIVE       CONFIRMED\n",
       "5383  FALSE POSITIVE  FALSE POSITIVE\n",
       "6546       CONFIRMED       CONFIRMED\n",
       "\n",
       "[1592 rows x 2 columns]"
      ]
     },
     "execution_count": 15,
     "metadata": {},
     "output_type": "execute_result"
    }
   ],
   "source": [
    "predictions = rf.predict(X_test_scaled)\n",
    "pd.DataFrame({\"Prediction\": predictions, \"Actual\": y_test})"
   ]
  },
  {
   "cell_type": "markdown",
   "metadata": {},
   "source": [
    "# Hyperparameter Tuning¶\n",
    "Use GridSearchCV to tune the model's parameters"
   ]
  },
  {
   "cell_type": "code",
   "execution_count": 16,
   "metadata": {},
   "outputs": [
    {
     "data": {
      "text/plain": [
       "{'bootstrap': True,\n",
       " 'class_weight': None,\n",
       " 'criterion': 'gini',\n",
       " 'max_depth': None,\n",
       " 'max_features': 'auto',\n",
       " 'max_leaf_nodes': None,\n",
       " 'min_impurity_decrease': 0.0001,\n",
       " 'min_impurity_split': None,\n",
       " 'min_samples_leaf': 1,\n",
       " 'min_samples_split': 2,\n",
       " 'min_weight_fraction_leaf': 0.0,\n",
       " 'n_estimators': 200,\n",
       " 'n_jobs': None,\n",
       " 'oob_score': False,\n",
       " 'random_state': None,\n",
       " 'verbose': 0,\n",
       " 'warm_start': False}"
      ]
     },
     "execution_count": 16,
     "metadata": {},
     "output_type": "execute_result"
    }
   ],
   "source": [
    "rf.get_params()"
   ]
  },
  {
   "cell_type": "code",
   "execution_count": 17,
   "metadata": {},
   "outputs": [],
   "source": [
    "# Train the model with GridSearch\n",
    "# Create the GridSearch estimator along with a parameter object containing the values to adjust\n",
    "from sklearn.model_selection import GridSearchCV\n",
    "param_grid = {'min_samples_split': [2, 4, 8, 16],\n",
    "              'min_impurity_decrease': [0.0001, 0.0005, 0.001, 0.005]}\n",
    "grid = GridSearchCV(rf, param_grid, verbose=3)"
   ]
  },
  {
   "cell_type": "code",
   "execution_count": 18,
   "metadata": {},
   "outputs": [
    {
     "name": "stderr",
     "output_type": "stream",
     "text": [
      "C:\\Users\\Home Laptop\\Anaconda3\\lib\\site-packages\\sklearn\\model_selection\\_split.py:1978: FutureWarning: The default value of cv will change from 3 to 5 in version 0.22. Specify it explicitly to silence this warning.\n",
      "  warnings.warn(CV_WARNING, FutureWarning)\n",
      "[Parallel(n_jobs=1)]: Using backend SequentialBackend with 1 concurrent workers.\n"
     ]
    },
    {
     "name": "stdout",
     "output_type": "stream",
     "text": [
      "Fitting 3 folds for each of 16 candidates, totalling 48 fits\n",
      "[CV] min_impurity_decrease=0.0001, min_samples_split=2 ...............\n",
      "[CV]  min_impurity_decrease=0.0001, min_samples_split=2, score=0.893, total=   0.7s\n",
      "[CV] min_impurity_decrease=0.0001, min_samples_split=2 ...............\n"
     ]
    },
    {
     "name": "stderr",
     "output_type": "stream",
     "text": [
      "[Parallel(n_jobs=1)]: Done   1 out of   1 | elapsed:    0.6s remaining:    0.0s\n"
     ]
    },
    {
     "name": "stdout",
     "output_type": "stream",
     "text": [
      "[CV]  min_impurity_decrease=0.0001, min_samples_split=2, score=0.921, total=   0.8s\n",
      "[CV] min_impurity_decrease=0.0001, min_samples_split=2 ...............\n"
     ]
    },
    {
     "name": "stderr",
     "output_type": "stream",
     "text": [
      "[Parallel(n_jobs=1)]: Done   2 out of   2 | elapsed:    1.4s remaining:    0.0s\n"
     ]
    },
    {
     "name": "stdout",
     "output_type": "stream",
     "text": [
      "[CV]  min_impurity_decrease=0.0001, min_samples_split=2, score=0.903, total=   0.7s\n",
      "[CV] min_impurity_decrease=0.0001, min_samples_split=4 ...............\n",
      "[CV]  min_impurity_decrease=0.0001, min_samples_split=4, score=0.894, total=   0.7s\n",
      "[CV] min_impurity_decrease=0.0001, min_samples_split=4 ...............\n",
      "[CV]  min_impurity_decrease=0.0001, min_samples_split=4, score=0.919, total=   0.8s\n",
      "[CV] min_impurity_decrease=0.0001, min_samples_split=4 ...............\n",
      "[CV]  min_impurity_decrease=0.0001, min_samples_split=4, score=0.901, total=   0.8s\n",
      "[CV] min_impurity_decrease=0.0001, min_samples_split=8 ...............\n",
      "[CV]  min_impurity_decrease=0.0001, min_samples_split=8, score=0.890, total=   0.8s\n",
      "[CV] min_impurity_decrease=0.0001, min_samples_split=8 ...............\n",
      "[CV]  min_impurity_decrease=0.0001, min_samples_split=8, score=0.920, total=   0.8s\n",
      "[CV] min_impurity_decrease=0.0001, min_samples_split=8 ...............\n",
      "[CV]  min_impurity_decrease=0.0001, min_samples_split=8, score=0.904, total=   0.7s\n",
      "[CV] min_impurity_decrease=0.0001, min_samples_split=16 ..............\n",
      "[CV]  min_impurity_decrease=0.0001, min_samples_split=16, score=0.889, total=   0.9s\n",
      "[CV] min_impurity_decrease=0.0001, min_samples_split=16 ..............\n",
      "[CV]  min_impurity_decrease=0.0001, min_samples_split=16, score=0.914, total=   0.8s\n",
      "[CV] min_impurity_decrease=0.0001, min_samples_split=16 ..............\n",
      "[CV]  min_impurity_decrease=0.0001, min_samples_split=16, score=0.903, total=   0.8s\n",
      "[CV] min_impurity_decrease=0.0005, min_samples_split=2 ...............\n",
      "[CV]  min_impurity_decrease=0.0005, min_samples_split=2, score=0.887, total=   0.8s\n",
      "[CV] min_impurity_decrease=0.0005, min_samples_split=2 ...............\n",
      "[CV]  min_impurity_decrease=0.0005, min_samples_split=2, score=0.919, total=   0.8s\n",
      "[CV] min_impurity_decrease=0.0005, min_samples_split=2 ...............\n",
      "[CV]  min_impurity_decrease=0.0005, min_samples_split=2, score=0.907, total=   1.0s\n",
      "[CV] min_impurity_decrease=0.0005, min_samples_split=4 ...............\n",
      "[CV]  min_impurity_decrease=0.0005, min_samples_split=4, score=0.888, total=   0.9s\n",
      "[CV] min_impurity_decrease=0.0005, min_samples_split=4 ...............\n",
      "[CV]  min_impurity_decrease=0.0005, min_samples_split=4, score=0.917, total=   0.8s\n",
      "[CV] min_impurity_decrease=0.0005, min_samples_split=4 ...............\n",
      "[CV]  min_impurity_decrease=0.0005, min_samples_split=4, score=0.904, total=   0.8s\n",
      "[CV] min_impurity_decrease=0.0005, min_samples_split=8 ...............\n",
      "[CV]  min_impurity_decrease=0.0005, min_samples_split=8, score=0.887, total=   0.7s\n",
      "[CV] min_impurity_decrease=0.0005, min_samples_split=8 ...............\n",
      "[CV]  min_impurity_decrease=0.0005, min_samples_split=8, score=0.918, total=   0.8s\n",
      "[CV] min_impurity_decrease=0.0005, min_samples_split=8 ...............\n",
      "[CV]  min_impurity_decrease=0.0005, min_samples_split=8, score=0.908, total=   0.7s\n",
      "[CV] min_impurity_decrease=0.0005, min_samples_split=16 ..............\n",
      "[CV]  min_impurity_decrease=0.0005, min_samples_split=16, score=0.884, total=   0.7s\n",
      "[CV] min_impurity_decrease=0.0005, min_samples_split=16 ..............\n",
      "[CV]  min_impurity_decrease=0.0005, min_samples_split=16, score=0.913, total=   0.7s\n",
      "[CV] min_impurity_decrease=0.0005, min_samples_split=16 ..............\n",
      "[CV]  min_impurity_decrease=0.0005, min_samples_split=16, score=0.905, total=   0.7s\n",
      "[CV] min_impurity_decrease=0.001, min_samples_split=2 ................\n",
      "[CV]  min_impurity_decrease=0.001, min_samples_split=2, score=0.884, total=   0.6s\n",
      "[CV] min_impurity_decrease=0.001, min_samples_split=2 ................\n",
      "[CV]  min_impurity_decrease=0.001, min_samples_split=2, score=0.913, total=   0.7s\n",
      "[CV] min_impurity_decrease=0.001, min_samples_split=2 ................\n",
      "[CV]  min_impurity_decrease=0.001, min_samples_split=2, score=0.904, total=   0.7s\n",
      "[CV] min_impurity_decrease=0.001, min_samples_split=4 ................\n",
      "[CV]  min_impurity_decrease=0.001, min_samples_split=4, score=0.881, total=   0.6s\n",
      "[CV] min_impurity_decrease=0.001, min_samples_split=4 ................\n",
      "[CV]  min_impurity_decrease=0.001, min_samples_split=4, score=0.911, total=   0.6s\n",
      "[CV] min_impurity_decrease=0.001, min_samples_split=4 ................\n",
      "[CV]  min_impurity_decrease=0.001, min_samples_split=4, score=0.905, total=   0.6s\n",
      "[CV] min_impurity_decrease=0.001, min_samples_split=8 ................\n",
      "[CV]  min_impurity_decrease=0.001, min_samples_split=8, score=0.882, total=   0.6s\n",
      "[CV] min_impurity_decrease=0.001, min_samples_split=8 ................\n",
      "[CV]  min_impurity_decrease=0.001, min_samples_split=8, score=0.913, total=   0.6s\n",
      "[CV] min_impurity_decrease=0.001, min_samples_split=8 ................\n",
      "[CV]  min_impurity_decrease=0.001, min_samples_split=8, score=0.906, total=   0.7s\n",
      "[CV] min_impurity_decrease=0.001, min_samples_split=16 ...............\n",
      "[CV]  min_impurity_decrease=0.001, min_samples_split=16, score=0.880, total=   0.6s\n",
      "[CV] min_impurity_decrease=0.001, min_samples_split=16 ...............\n",
      "[CV]  min_impurity_decrease=0.001, min_samples_split=16, score=0.908, total=   0.7s\n",
      "[CV] min_impurity_decrease=0.001, min_samples_split=16 ...............\n",
      "[CV]  min_impurity_decrease=0.001, min_samples_split=16, score=0.906, total=   0.7s\n",
      "[CV] min_impurity_decrease=0.005, min_samples_split=2 ................\n",
      "[CV]  min_impurity_decrease=0.005, min_samples_split=2, score=0.865, total=   0.5s\n",
      "[CV] min_impurity_decrease=0.005, min_samples_split=2 ................\n",
      "[CV]  min_impurity_decrease=0.005, min_samples_split=2, score=0.899, total=   0.6s\n",
      "[CV] min_impurity_decrease=0.005, min_samples_split=2 ................\n",
      "[CV]  min_impurity_decrease=0.005, min_samples_split=2, score=0.892, total=   0.5s\n",
      "[CV] min_impurity_decrease=0.005, min_samples_split=4 ................\n",
      "[CV]  min_impurity_decrease=0.005, min_samples_split=4, score=0.867, total=   0.4s\n",
      "[CV] min_impurity_decrease=0.005, min_samples_split=4 ................\n",
      "[CV]  min_impurity_decrease=0.005, min_samples_split=4, score=0.901, total=   0.5s\n",
      "[CV] min_impurity_decrease=0.005, min_samples_split=4 ................\n",
      "[CV]  min_impurity_decrease=0.005, min_samples_split=4, score=0.892, total=   0.5s\n",
      "[CV] min_impurity_decrease=0.005, min_samples_split=8 ................\n",
      "[CV]  min_impurity_decrease=0.005, min_samples_split=8, score=0.866, total=   0.5s\n",
      "[CV] min_impurity_decrease=0.005, min_samples_split=8 ................\n",
      "[CV]  min_impurity_decrease=0.005, min_samples_split=8, score=0.901, total=   0.4s\n",
      "[CV] min_impurity_decrease=0.005, min_samples_split=8 ................\n",
      "[CV]  min_impurity_decrease=0.005, min_samples_split=8, score=0.892, total=   0.4s\n",
      "[CV] min_impurity_decrease=0.005, min_samples_split=16 ...............\n",
      "[CV]  min_impurity_decrease=0.005, min_samples_split=16, score=0.868, total=   0.4s\n",
      "[CV] min_impurity_decrease=0.005, min_samples_split=16 ...............\n",
      "[CV]  min_impurity_decrease=0.005, min_samples_split=16, score=0.901, total=   0.4s\n",
      "[CV] min_impurity_decrease=0.005, min_samples_split=16 ...............\n",
      "[CV]  min_impurity_decrease=0.005, min_samples_split=16, score=0.892, total=   0.5s\n"
     ]
    },
    {
     "name": "stderr",
     "output_type": "stream",
     "text": [
      "[Parallel(n_jobs=1)]: Done  48 out of  48 | elapsed:   31.8s finished\n"
     ]
    },
    {
     "data": {
      "text/plain": [
       "GridSearchCV(cv='warn', error_score='raise-deprecating',\n",
       "             estimator=RandomForestClassifier(bootstrap=True, class_weight=None,\n",
       "                                              criterion='gini', max_depth=None,\n",
       "                                              max_features='auto',\n",
       "                                              max_leaf_nodes=None,\n",
       "                                              min_impurity_decrease=0.0001,\n",
       "                                              min_impurity_split=None,\n",
       "                                              min_samples_leaf=1,\n",
       "                                              min_samples_split=2,\n",
       "                                              min_weight_fraction_leaf=0.0,\n",
       "                                              n_estimators=200, n_jobs=None,\n",
       "                                              oob_score=False,\n",
       "                                              random_state=None, verbose=0,\n",
       "                                              warm_start=False),\n",
       "             iid='warn', n_jobs=None,\n",
       "             param_grid={'min_impurity_decrease': [0.0001, 0.0005, 0.001,\n",
       "                                                   0.005],\n",
       "                         'min_samples_split': [2, 4, 8, 16]},\n",
       "             pre_dispatch='2*n_jobs', refit=True, return_train_score=False,\n",
       "             scoring=None, verbose=3)"
      ]
     },
     "execution_count": 18,
     "metadata": {},
     "output_type": "execute_result"
    }
   ],
   "source": [
    "# Train the model with GridSearch\n",
    "grid.fit(X_train_scaled, y_train)"
   ]
  },
  {
   "cell_type": "code",
   "execution_count": 19,
   "metadata": {},
   "outputs": [
    {
     "name": "stdout",
     "output_type": "stream",
     "text": [
      "{'min_impurity_decrease': 0.0001, 'min_samples_split': 2}\n",
      "0.9057112068965517\n"
     ]
    }
   ],
   "source": [
    "print(grid.best_params_)\n",
    "print(grid.best_score_)"
   ]
  },
  {
   "cell_type": "code",
   "execution_count": 20,
   "metadata": {},
   "outputs": [
    {
     "data": {
      "text/plain": [
       "[(0.2269056321772587, 'koi_model_snr'),\n",
       " (0.20520577006423435, 'koi_prad'),\n",
       " (0.1331415480980205, 'koi_teq'),\n",
       " (0.13182193575103482, 'koi_impact'),\n",
       " (0.11864712493042254, 'koi_depth'),\n",
       " (0.09289461431705683, 'koi_duration'),\n",
       " (0.09138337466197231, 'koi_insol')]"
      ]
     },
     "execution_count": 20,
     "metadata": {},
     "output_type": "execute_result"
    }
   ],
   "source": [
    "sorted(zip(rf.feature_importances_, feature_names), reverse=True)"
   ]
  },
  {
   "cell_type": "markdown",
   "metadata": {},
   "source": [
    "# Save the Model"
   ]
  },
  {
   "cell_type": "code",
   "execution_count": 21,
   "metadata": {},
   "outputs": [
    {
     "data": {
      "text/plain": [
       "['random_forest.h5']"
      ]
     },
     "execution_count": 21,
     "metadata": {},
     "output_type": "execute_result"
    }
   ],
   "source": [
    "# save your model by updating \"your_name\" with your name\n",
    "# and \"your_model\" with your model variable\n",
    "# be sure to turn this in to BCS\n",
    "# if joblib fails to import, try running the command to install in terminal/git-bash\n",
    "# model.save(\"voice_model_trained.h5\")\n",
    "import joblib\n",
    "filename = 'random_forest.h5'\n",
    "joblib.dump(rf, filename)"
   ]
  }
 ],
 "metadata": {
  "kernelspec": {
   "display_name": "Python 3",
   "language": "python",
   "name": "python3"
  },
  "language_info": {
   "codemirror_mode": {
    "name": "ipython",
    "version": 3
   },
   "file_extension": ".py",
   "mimetype": "text/x-python",
   "name": "python",
   "nbconvert_exporter": "python",
   "pygments_lexer": "ipython3",
   "version": "3.7.4"
  }
 },
 "nbformat": 4,
 "nbformat_minor": 2
}
