{
 "cells": [
  {
   "cell_type": "code",
   "execution_count": 1,
   "metadata": {},
   "outputs": [
    {
     "name": "stdout",
     "output_type": "stream",
     "text": [
      "Requirement already up-to-date: sklearn in c:\\users\\home laptop\\anaconda3\\lib\\site-packages (0.0)\n",
      "Requirement already satisfied, skipping upgrade: scikit-learn in c:\\users\\home laptop\\anaconda3\\lib\\site-packages (from sklearn) (0.21.3)\n",
      "Requirement already satisfied, skipping upgrade: scipy>=0.17.0 in c:\\users\\home laptop\\anaconda3\\lib\\site-packages (from scikit-learn->sklearn) (1.4.1)\n",
      "Requirement already satisfied, skipping upgrade: joblib>=0.11 in c:\\users\\home laptop\\anaconda3\\lib\\site-packages (from scikit-learn->sklearn) (0.13.2)\n",
      "Requirement already satisfied, skipping upgrade: numpy>=1.11.0 in c:\\users\\home laptop\\anaconda3\\lib\\site-packages (from scikit-learn->sklearn) (1.16.5)\n"
     ]
    }
   ],
   "source": [
    "!pip install sklearn --upgrade"
   ]
  },
  {
   "cell_type": "code",
   "execution_count": 2,
   "metadata": {},
   "outputs": [
    {
     "name": "stdout",
     "output_type": "stream",
     "text": [
      "Requirement already satisfied: joblib in c:\\users\\home laptop\\anaconda3\\lib\\site-packages (0.13.2)\n"
     ]
    }
   ],
   "source": [
    "# install joblib. This will be used to save your model. \n",
    "# Restart your kernel after installing \n",
    "!pip install joblib"
   ]
  },
  {
   "cell_type": "code",
   "execution_count": 3,
   "metadata": {},
   "outputs": [],
   "source": [
    "from numpy.random import seed\n",
    "seed(1)"
   ]
  },
  {
   "cell_type": "code",
   "execution_count": 4,
   "metadata": {},
   "outputs": [],
   "source": [
    "# import os\n",
    "import tensorflow as tf\n",
    "from tensorflow.keras.models import Sequential\n",
    "from tensorflow.keras.utils import to_categorical\n",
    "from tensorflow.keras.layers import Dense"
   ]
  },
  {
   "cell_type": "code",
   "execution_count": 5,
   "metadata": {},
   "outputs": [],
   "source": [
    "import pandas as pd\n",
    "import numpy as np"
   ]
  },
  {
   "cell_type": "markdown",
   "metadata": {},
   "source": [
    "# Read the CSV and Perform Basic Data Cleaning"
   ]
  },
  {
   "cell_type": "code",
   "execution_count": 6,
   "metadata": {},
   "outputs": [
    {
     "data": {
      "text/html": [
       "<div>\n",
       "<style scoped>\n",
       "    .dataframe tbody tr th:only-of-type {\n",
       "        vertical-align: middle;\n",
       "    }\n",
       "\n",
       "    .dataframe tbody tr th {\n",
       "        vertical-align: top;\n",
       "    }\n",
       "\n",
       "    .dataframe thead th {\n",
       "        text-align: right;\n",
       "    }\n",
       "</style>\n",
       "<table border=\"1\" class=\"dataframe\">\n",
       "  <thead>\n",
       "    <tr style=\"text-align: right;\">\n",
       "      <th></th>\n",
       "      <th>koi_disposition</th>\n",
       "      <th>koi_fpflag_nt</th>\n",
       "      <th>koi_fpflag_ss</th>\n",
       "      <th>koi_fpflag_co</th>\n",
       "      <th>koi_fpflag_ec</th>\n",
       "      <th>koi_period</th>\n",
       "      <th>koi_period_err1</th>\n",
       "      <th>koi_period_err2</th>\n",
       "      <th>koi_time0bk</th>\n",
       "      <th>koi_time0bk_err1</th>\n",
       "      <th>...</th>\n",
       "      <th>koi_steff_err2</th>\n",
       "      <th>koi_slogg</th>\n",
       "      <th>koi_slogg_err1</th>\n",
       "      <th>koi_slogg_err2</th>\n",
       "      <th>koi_srad</th>\n",
       "      <th>koi_srad_err1</th>\n",
       "      <th>koi_srad_err2</th>\n",
       "      <th>ra</th>\n",
       "      <th>dec</th>\n",
       "      <th>koi_kepmag</th>\n",
       "    </tr>\n",
       "  </thead>\n",
       "  <tbody>\n",
       "    <tr>\n",
       "      <th>0</th>\n",
       "      <td>CONFIRMED</td>\n",
       "      <td>0</td>\n",
       "      <td>0</td>\n",
       "      <td>0</td>\n",
       "      <td>0</td>\n",
       "      <td>54.418383</td>\n",
       "      <td>2.479000e-04</td>\n",
       "      <td>-2.479000e-04</td>\n",
       "      <td>162.513840</td>\n",
       "      <td>0.003520</td>\n",
       "      <td>...</td>\n",
       "      <td>-81</td>\n",
       "      <td>4.467</td>\n",
       "      <td>0.064</td>\n",
       "      <td>-0.096</td>\n",
       "      <td>0.927</td>\n",
       "      <td>0.105</td>\n",
       "      <td>-0.061</td>\n",
       "      <td>291.93423</td>\n",
       "      <td>48.141651</td>\n",
       "      <td>15.347</td>\n",
       "    </tr>\n",
       "    <tr>\n",
       "      <th>1</th>\n",
       "      <td>FALSE POSITIVE</td>\n",
       "      <td>0</td>\n",
       "      <td>1</td>\n",
       "      <td>0</td>\n",
       "      <td>0</td>\n",
       "      <td>19.899140</td>\n",
       "      <td>1.490000e-05</td>\n",
       "      <td>-1.490000e-05</td>\n",
       "      <td>175.850252</td>\n",
       "      <td>0.000581</td>\n",
       "      <td>...</td>\n",
       "      <td>-176</td>\n",
       "      <td>4.544</td>\n",
       "      <td>0.044</td>\n",
       "      <td>-0.176</td>\n",
       "      <td>0.868</td>\n",
       "      <td>0.233</td>\n",
       "      <td>-0.078</td>\n",
       "      <td>297.00482</td>\n",
       "      <td>48.134129</td>\n",
       "      <td>15.436</td>\n",
       "    </tr>\n",
       "    <tr>\n",
       "      <th>2</th>\n",
       "      <td>FALSE POSITIVE</td>\n",
       "      <td>0</td>\n",
       "      <td>1</td>\n",
       "      <td>0</td>\n",
       "      <td>0</td>\n",
       "      <td>1.736952</td>\n",
       "      <td>2.630000e-07</td>\n",
       "      <td>-2.630000e-07</td>\n",
       "      <td>170.307565</td>\n",
       "      <td>0.000115</td>\n",
       "      <td>...</td>\n",
       "      <td>-174</td>\n",
       "      <td>4.564</td>\n",
       "      <td>0.053</td>\n",
       "      <td>-0.168</td>\n",
       "      <td>0.791</td>\n",
       "      <td>0.201</td>\n",
       "      <td>-0.067</td>\n",
       "      <td>285.53461</td>\n",
       "      <td>48.285210</td>\n",
       "      <td>15.597</td>\n",
       "    </tr>\n",
       "    <tr>\n",
       "      <th>3</th>\n",
       "      <td>CONFIRMED</td>\n",
       "      <td>0</td>\n",
       "      <td>0</td>\n",
       "      <td>0</td>\n",
       "      <td>0</td>\n",
       "      <td>2.525592</td>\n",
       "      <td>3.760000e-06</td>\n",
       "      <td>-3.760000e-06</td>\n",
       "      <td>171.595550</td>\n",
       "      <td>0.001130</td>\n",
       "      <td>...</td>\n",
       "      <td>-211</td>\n",
       "      <td>4.438</td>\n",
       "      <td>0.070</td>\n",
       "      <td>-0.210</td>\n",
       "      <td>1.046</td>\n",
       "      <td>0.334</td>\n",
       "      <td>-0.133</td>\n",
       "      <td>288.75488</td>\n",
       "      <td>48.226200</td>\n",
       "      <td>15.509</td>\n",
       "    </tr>\n",
       "    <tr>\n",
       "      <th>4</th>\n",
       "      <td>CONFIRMED</td>\n",
       "      <td>0</td>\n",
       "      <td>0</td>\n",
       "      <td>0</td>\n",
       "      <td>0</td>\n",
       "      <td>4.134435</td>\n",
       "      <td>1.050000e-05</td>\n",
       "      <td>-1.050000e-05</td>\n",
       "      <td>172.979370</td>\n",
       "      <td>0.001900</td>\n",
       "      <td>...</td>\n",
       "      <td>-232</td>\n",
       "      <td>4.486</td>\n",
       "      <td>0.054</td>\n",
       "      <td>-0.229</td>\n",
       "      <td>0.972</td>\n",
       "      <td>0.315</td>\n",
       "      <td>-0.105</td>\n",
       "      <td>296.28613</td>\n",
       "      <td>48.224670</td>\n",
       "      <td>15.714</td>\n",
       "    </tr>\n",
       "  </tbody>\n",
       "</table>\n",
       "<p>5 rows × 41 columns</p>\n",
       "</div>"
      ],
      "text/plain": [
       "  koi_disposition  koi_fpflag_nt  koi_fpflag_ss  koi_fpflag_co  koi_fpflag_ec  \\\n",
       "0       CONFIRMED              0              0              0              0   \n",
       "1  FALSE POSITIVE              0              1              0              0   \n",
       "2  FALSE POSITIVE              0              1              0              0   \n",
       "3       CONFIRMED              0              0              0              0   \n",
       "4       CONFIRMED              0              0              0              0   \n",
       "\n",
       "   koi_period  koi_period_err1  koi_period_err2  koi_time0bk  \\\n",
       "0   54.418383     2.479000e-04    -2.479000e-04   162.513840   \n",
       "1   19.899140     1.490000e-05    -1.490000e-05   175.850252   \n",
       "2    1.736952     2.630000e-07    -2.630000e-07   170.307565   \n",
       "3    2.525592     3.760000e-06    -3.760000e-06   171.595550   \n",
       "4    4.134435     1.050000e-05    -1.050000e-05   172.979370   \n",
       "\n",
       "   koi_time0bk_err1  ...  koi_steff_err2  koi_slogg  koi_slogg_err1  \\\n",
       "0          0.003520  ...             -81      4.467           0.064   \n",
       "1          0.000581  ...            -176      4.544           0.044   \n",
       "2          0.000115  ...            -174      4.564           0.053   \n",
       "3          0.001130  ...            -211      4.438           0.070   \n",
       "4          0.001900  ...            -232      4.486           0.054   \n",
       "\n",
       "   koi_slogg_err2  koi_srad  koi_srad_err1  koi_srad_err2         ra  \\\n",
       "0          -0.096     0.927          0.105         -0.061  291.93423   \n",
       "1          -0.176     0.868          0.233         -0.078  297.00482   \n",
       "2          -0.168     0.791          0.201         -0.067  285.53461   \n",
       "3          -0.210     1.046          0.334         -0.133  288.75488   \n",
       "4          -0.229     0.972          0.315         -0.105  296.28613   \n",
       "\n",
       "         dec  koi_kepmag  \n",
       "0  48.141651      15.347  \n",
       "1  48.134129      15.436  \n",
       "2  48.285210      15.597  \n",
       "3  48.226200      15.509  \n",
       "4  48.224670      15.714  \n",
       "\n",
       "[5 rows x 41 columns]"
      ]
     },
     "execution_count": 6,
     "metadata": {},
     "output_type": "execute_result"
    }
   ],
   "source": [
    "df = pd.read_csv(\"exoplanet_data.csv\")\n",
    "# df = df.drop (columns = [\"koi_period_err1\",\"koi_period_err2\",\"koi_time0bk_err1\",\"koi_time0bk_err2\", \"koi_impact_err1\",\"koi_impact_err2\", \"koi_duration_err1\",\"koi_duration_err2\",\"koi_depth_err1\",\"koi_depth_err2\", \"koi_prad_err1\",\"koi_prad_err2\", \"koi_steff_err1\",\"koi_steff_err2\", \"koi_slogg_err1\",\"koi_slogg_err2\",\"koi_srad_err1\",\"koi_srad_err2\"])\n",
    "# # Drop the null columns where all values are null\n",
    "df = df.dropna(axis='columns', how='all')\n",
    "# Drop the null rows\n",
    "df = df.dropna()\n",
    "df.head()"
   ]
  },
  {
   "cell_type": "markdown",
   "metadata": {},
   "source": [
    "# Select your features (columns)"
   ]
  },
  {
   "cell_type": "code",
   "execution_count": 7,
   "metadata": {},
   "outputs": [
    {
     "data": {
      "text/html": [
       "<div>\n",
       "<style scoped>\n",
       "    .dataframe tbody tr th:only-of-type {\n",
       "        vertical-align: middle;\n",
       "    }\n",
       "\n",
       "    .dataframe tbody tr th {\n",
       "        vertical-align: top;\n",
       "    }\n",
       "\n",
       "    .dataframe thead th {\n",
       "        text-align: right;\n",
       "    }\n",
       "</style>\n",
       "<table border=\"1\" class=\"dataframe\">\n",
       "  <thead>\n",
       "    <tr style=\"text-align: right;\">\n",
       "      <th></th>\n",
       "      <th>koi_disposition</th>\n",
       "      <th>koi_impact</th>\n",
       "      <th>koi_duration</th>\n",
       "      <th>koi_depth</th>\n",
       "      <th>koi_prad</th>\n",
       "      <th>koi_teq</th>\n",
       "      <th>koi_insol</th>\n",
       "      <th>koi_model_snr</th>\n",
       "    </tr>\n",
       "  </thead>\n",
       "  <tbody>\n",
       "    <tr>\n",
       "      <th>0</th>\n",
       "      <td>1</td>\n",
       "      <td>0.586</td>\n",
       "      <td>4.50700</td>\n",
       "      <td>874.8</td>\n",
       "      <td>2.83</td>\n",
       "      <td>443</td>\n",
       "      <td>9.11</td>\n",
       "      <td>25.8</td>\n",
       "    </tr>\n",
       "    <tr>\n",
       "      <th>1</th>\n",
       "      <td>3</td>\n",
       "      <td>0.969</td>\n",
       "      <td>1.78220</td>\n",
       "      <td>10829.0</td>\n",
       "      <td>14.60</td>\n",
       "      <td>638</td>\n",
       "      <td>39.30</td>\n",
       "      <td>76.3</td>\n",
       "    </tr>\n",
       "    <tr>\n",
       "      <th>2</th>\n",
       "      <td>3</td>\n",
       "      <td>1.276</td>\n",
       "      <td>2.40641</td>\n",
       "      <td>8079.2</td>\n",
       "      <td>33.46</td>\n",
       "      <td>1395</td>\n",
       "      <td>891.96</td>\n",
       "      <td>505.6</td>\n",
       "    </tr>\n",
       "    <tr>\n",
       "      <th>3</th>\n",
       "      <td>1</td>\n",
       "      <td>0.701</td>\n",
       "      <td>1.65450</td>\n",
       "      <td>603.3</td>\n",
       "      <td>2.75</td>\n",
       "      <td>1406</td>\n",
       "      <td>926.16</td>\n",
       "      <td>40.9</td>\n",
       "    </tr>\n",
       "    <tr>\n",
       "      <th>4</th>\n",
       "      <td>1</td>\n",
       "      <td>0.762</td>\n",
       "      <td>3.14020</td>\n",
       "      <td>686.0</td>\n",
       "      <td>2.77</td>\n",
       "      <td>1160</td>\n",
       "      <td>427.65</td>\n",
       "      <td>40.2</td>\n",
       "    </tr>\n",
       "    <tr>\n",
       "      <th>...</th>\n",
       "      <td>...</td>\n",
       "      <td>...</td>\n",
       "      <td>...</td>\n",
       "      <td>...</td>\n",
       "      <td>...</td>\n",
       "      <td>...</td>\n",
       "      <td>...</td>\n",
       "      <td>...</td>\n",
       "    </tr>\n",
       "    <tr>\n",
       "      <th>6983</th>\n",
       "      <td>3</td>\n",
       "      <td>2.441</td>\n",
       "      <td>77.98300</td>\n",
       "      <td>1583.8</td>\n",
       "      <td>534.47</td>\n",
       "      <td>1006</td>\n",
       "      <td>242.54</td>\n",
       "      <td>171.5</td>\n",
       "    </tr>\n",
       "    <tr>\n",
       "      <th>6986</th>\n",
       "      <td>3</td>\n",
       "      <td>0.765</td>\n",
       "      <td>4.80600</td>\n",
       "      <td>87.7</td>\n",
       "      <td>1.11</td>\n",
       "      <td>929</td>\n",
       "      <td>176.40</td>\n",
       "      <td>8.4</td>\n",
       "    </tr>\n",
       "    <tr>\n",
       "      <th>6987</th>\n",
       "      <td>3</td>\n",
       "      <td>1.252</td>\n",
       "      <td>3.22210</td>\n",
       "      <td>1579.2</td>\n",
       "      <td>29.35</td>\n",
       "      <td>2088</td>\n",
       "      <td>4500.53</td>\n",
       "      <td>453.3</td>\n",
       "    </tr>\n",
       "    <tr>\n",
       "      <th>6989</th>\n",
       "      <td>3</td>\n",
       "      <td>0.147</td>\n",
       "      <td>0.86500</td>\n",
       "      <td>103.6</td>\n",
       "      <td>1.07</td>\n",
       "      <td>2218</td>\n",
       "      <td>5713.41</td>\n",
       "      <td>12.3</td>\n",
       "    </tr>\n",
       "    <tr>\n",
       "      <th>6990</th>\n",
       "      <td>3</td>\n",
       "      <td>0.134</td>\n",
       "      <td>3.07800</td>\n",
       "      <td>76.7</td>\n",
       "      <td>1.05</td>\n",
       "      <td>1266</td>\n",
       "      <td>607.42</td>\n",
       "      <td>8.2</td>\n",
       "    </tr>\n",
       "  </tbody>\n",
       "</table>\n",
       "<p>5304 rows × 8 columns</p>\n",
       "</div>"
      ],
      "text/plain": [
       "      koi_disposition  koi_impact  koi_duration  koi_depth  koi_prad  koi_teq  \\\n",
       "0                   1       0.586       4.50700      874.8      2.83      443   \n",
       "1                   3       0.969       1.78220    10829.0     14.60      638   \n",
       "2                   3       1.276       2.40641     8079.2     33.46     1395   \n",
       "3                   1       0.701       1.65450      603.3      2.75     1406   \n",
       "4                   1       0.762       3.14020      686.0      2.77     1160   \n",
       "...               ...         ...           ...        ...       ...      ...   \n",
       "6983                3       2.441      77.98300     1583.8    534.47     1006   \n",
       "6986                3       0.765       4.80600       87.7      1.11      929   \n",
       "6987                3       1.252       3.22210     1579.2     29.35     2088   \n",
       "6989                3       0.147       0.86500      103.6      1.07     2218   \n",
       "6990                3       0.134       3.07800       76.7      1.05     1266   \n",
       "\n",
       "      koi_insol  koi_model_snr  \n",
       "0          9.11           25.8  \n",
       "1         39.30           76.3  \n",
       "2        891.96          505.6  \n",
       "3        926.16           40.9  \n",
       "4        427.65           40.2  \n",
       "...         ...            ...  \n",
       "6983     242.54          171.5  \n",
       "6986     176.40            8.4  \n",
       "6987    4500.53          453.3  \n",
       "6989    5713.41           12.3  \n",
       "6990     607.42            8.2  \n",
       "\n",
       "[5304 rows x 8 columns]"
      ]
     },
     "execution_count": 7,
     "metadata": {},
     "output_type": "execute_result"
    }
   ],
   "source": [
    "# Set features. This will also be used as your x values.\n",
    "selected_features = df[['koi_disposition','koi_impact','koi_duration','koi_depth','koi_prad','koi_teq','koi_insol','koi_model_snr']]\n",
    "selected_features = selected_features[selected_features['koi_disposition']!='CANDIDATE']\n",
    "selected_features['koi_disposition'] = selected_features['koi_disposition'].map({'CONFIRMED': 1, 'CANDIDATE': 2, 'FALSE POSITIVE':3})\n",
    "selected_features"
   ]
  },
  {
   "cell_type": "code",
   "execution_count": 8,
   "metadata": {},
   "outputs": [],
   "source": [
    "# Read the training data into a dataframe\n",
    "X = selected_features[['koi_impact','koi_duration','koi_depth','koi_prad','koi_teq','koi_insol','koi_model_snr']]\n",
    "y = selected_features['koi_disposition']"
   ]
  },
  {
   "cell_type": "code",
   "execution_count": 9,
   "metadata": {},
   "outputs": [],
   "source": [
    "#columns\n",
    "feature_names = selected_features.columns"
   ]
  },
  {
   "cell_type": "markdown",
   "metadata": {},
   "source": [
    "# Create a Train Test Split"
   ]
  },
  {
   "cell_type": "code",
   "execution_count": 10,
   "metadata": {},
   "outputs": [],
   "source": [
    "# Use train_test_split to create training and testing data\n",
    "from sklearn.model_selection import train_test_split\n",
    "\n",
    "X_train, X_test, y_train, y_test = train_test_split(X, y, random_state=1, stratify=y)"
   ]
  },
  {
   "cell_type": "code",
   "execution_count": 11,
   "metadata": {},
   "outputs": [
    {
     "data": {
      "text/html": [
       "<div>\n",
       "<style scoped>\n",
       "    .dataframe tbody tr th:only-of-type {\n",
       "        vertical-align: middle;\n",
       "    }\n",
       "\n",
       "    .dataframe tbody tr th {\n",
       "        vertical-align: top;\n",
       "    }\n",
       "\n",
       "    .dataframe thead th {\n",
       "        text-align: right;\n",
       "    }\n",
       "</style>\n",
       "<table border=\"1\" class=\"dataframe\">\n",
       "  <thead>\n",
       "    <tr style=\"text-align: right;\">\n",
       "      <th></th>\n",
       "      <th>koi_impact</th>\n",
       "      <th>koi_duration</th>\n",
       "      <th>koi_depth</th>\n",
       "      <th>koi_prad</th>\n",
       "      <th>koi_teq</th>\n",
       "      <th>koi_insol</th>\n",
       "      <th>koi_model_snr</th>\n",
       "    </tr>\n",
       "  </thead>\n",
       "  <tbody>\n",
       "    <tr>\n",
       "      <th>4608</th>\n",
       "      <td>0.5181</td>\n",
       "      <td>1.9230</td>\n",
       "      <td>195.7</td>\n",
       "      <td>1.37</td>\n",
       "      <td>386</td>\n",
       "      <td>5.23</td>\n",
       "      <td>5.2</td>\n",
       "    </tr>\n",
       "    <tr>\n",
       "      <th>2644</th>\n",
       "      <td>0.9320</td>\n",
       "      <td>2.2491</td>\n",
       "      <td>3860.7</td>\n",
       "      <td>11.26</td>\n",
       "      <td>926</td>\n",
       "      <td>173.50</td>\n",
       "      <td>218.5</td>\n",
       "    </tr>\n",
       "    <tr>\n",
       "      <th>1322</th>\n",
       "      <td>1.2720</td>\n",
       "      <td>6.7890</td>\n",
       "      <td>3522.5</td>\n",
       "      <td>32.77</td>\n",
       "      <td>954</td>\n",
       "      <td>195.79</td>\n",
       "      <td>141.4</td>\n",
       "    </tr>\n",
       "    <tr>\n",
       "      <th>460</th>\n",
       "      <td>0.8660</td>\n",
       "      <td>3.0822</td>\n",
       "      <td>421.6</td>\n",
       "      <td>2.41</td>\n",
       "      <td>777</td>\n",
       "      <td>86.28</td>\n",
       "      <td>24.6</td>\n",
       "    </tr>\n",
       "    <tr>\n",
       "      <th>2579</th>\n",
       "      <td>0.1930</td>\n",
       "      <td>8.6567</td>\n",
       "      <td>315.6</td>\n",
       "      <td>2.71</td>\n",
       "      <td>802</td>\n",
       "      <td>97.94</td>\n",
       "      <td>67.9</td>\n",
       "    </tr>\n",
       "  </tbody>\n",
       "</table>\n",
       "</div>"
      ],
      "text/plain": [
       "      koi_impact  koi_duration  koi_depth  koi_prad  koi_teq  koi_insol  \\\n",
       "4608      0.5181        1.9230      195.7      1.37      386       5.23   \n",
       "2644      0.9320        2.2491     3860.7     11.26      926     173.50   \n",
       "1322      1.2720        6.7890     3522.5     32.77      954     195.79   \n",
       "460       0.8660        3.0822      421.6      2.41      777      86.28   \n",
       "2579      0.1930        8.6567      315.6      2.71      802      97.94   \n",
       "\n",
       "      koi_model_snr  \n",
       "4608            5.2  \n",
       "2644          218.5  \n",
       "1322          141.4  \n",
       "460            24.6  \n",
       "2579           67.9  "
      ]
     },
     "execution_count": 11,
     "metadata": {},
     "output_type": "execute_result"
    }
   ],
   "source": [
    "# Read the training data into a dataframe\n",
    "X_train_df = pd.DataFrame(X_train)\n",
    "X_train_df.head()"
   ]
  },
  {
   "cell_type": "code",
   "execution_count": 12,
   "metadata": {},
   "outputs": [
    {
     "data": {
      "text/plain": [
       "(3978, 7)"
      ]
     },
     "execution_count": 12,
     "metadata": {},
     "output_type": "execute_result"
    }
   ],
   "source": [
    "# Convert the dataframe to a numpy array for Keras\n",
    "X_train = X_train_df.values\n",
    "X_train.shape"
   ]
  },
  {
   "cell_type": "code",
   "execution_count": 13,
   "metadata": {},
   "outputs": [
    {
     "data": {
      "text/plain": [
       "4608    3\n",
       "2644    1\n",
       "1322    3\n",
       "460     1\n",
       "2579    1\n",
       "Name: koi_disposition, dtype: int64"
      ]
     },
     "execution_count": 13,
     "metadata": {},
     "output_type": "execute_result"
    }
   ],
   "source": [
    "# Read in the training labels as a dataframe\n",
    "y_train_df = pd.DataFrame(y_train)\n",
    "y_train.head()"
   ]
  },
  {
   "cell_type": "code",
   "execution_count": null,
   "metadata": {},
   "outputs": [],
   "source": [
    "y_train = y_train_df.values\n",
    "X_train.shape\n",
    "# One-hot encode the integer labels\n",
    "# 1 CONFIRMED\n",
    "# 2? CANDIDATE\n",
    "# 3 FALSE POSITIVE"
   ]
  },
  {
   "cell_type": "code",
   "execution_count": 15,
   "metadata": {},
   "outputs": [
    {
     "data": {
      "text/plain": [
       "(3978, 4)"
      ]
     },
     "execution_count": 15,
     "metadata": {},
     "output_type": "execute_result"
    }
   ],
   "source": [
    "y_train = to_categorical(y_train_df)\n",
    "y_train[:10]\n",
    "y_train.shape"
   ]
  },
  {
   "cell_type": "code",
   "execution_count": 16,
   "metadata": {},
   "outputs": [
    {
     "data": {
      "text/plain": [
       "(1326, 4)"
      ]
     },
     "execution_count": 16,
     "metadata": {},
     "output_type": "execute_result"
    }
   ],
   "source": [
    "# Read the testing labels\n",
    "y_test_df = pd.DataFrame(y_test)\n",
    "# One-hot encode the integer labels\n",
    "y_test = to_categorical(y_test_df)\n",
    "y_test.shape"
   ]
  },
  {
   "cell_type": "markdown",
   "metadata": {},
   "source": [
    "# Build a Deep Neural Network"
   ]
  },
  {
   "cell_type": "code",
   "execution_count": 17,
   "metadata": {},
   "outputs": [],
   "source": [
    "# Create model and add layers\n",
    "model = Sequential()\n",
    "model.add(Dense(units=150, activation='relu', input_dim=7))\n",
    "model.add(Dense(units=150, activation='relu'))\n",
    "model.add(Dense(units=150, activation='relu'))\n",
    "model.add(Dense(units=4, activation='softmax'))"
   ]
  },
  {
   "cell_type": "code",
   "execution_count": null,
   "metadata": {},
   "outputs": [],
   "source": [
    "# Create an empty sequential model\n",
    "# model = Sequential()"
   ]
  },
  {
   "cell_type": "code",
   "execution_count": null,
   "metadata": {},
   "outputs": [],
   "source": [
    "# Add the first layer where the input dimensions are the 3978 columns of the training data\n",
    "# model.add(Dense(100, activation='relu', input_dim=X_train.shape[1]))"
   ]
  },
  {
   "cell_type": "code",
   "execution_count": null,
   "metadata": {},
   "outputs": [],
   "source": [
    "# Add a second hidden layer\n",
    "# model.add(Dense(100, activation='relu'))"
   ]
  },
  {
   "cell_type": "code",
   "execution_count": 18,
   "metadata": {},
   "outputs": [
    {
     "data": {
      "text/plain": [
       "(3978, 4)"
      ]
     },
     "execution_count": 18,
     "metadata": {},
     "output_type": "execute_result"
    }
   ],
   "source": [
    "# The output layer has 2 columns that are one-hot encoded\n",
    "y_train.shape"
   ]
  },
  {
   "cell_type": "code",
   "execution_count": null,
   "metadata": {},
   "outputs": [],
   "source": [
    "# # Add output layer\n",
    "# model.add(Dense(y_train.shape[1], activation=\"softmax\"))"
   ]
  },
  {
   "cell_type": "code",
   "execution_count": 19,
   "metadata": {},
   "outputs": [],
   "source": [
    "# Compile the model using categorical_crossentropy for the loss function, the adam optimizer,\n",
    "# and add accuracy to the training metrics\n",
    "model.compile(loss=\"categorical_crossentropy\",\n",
    "              optimizer=\"adam\", metrics=['accuracy'])"
   ]
  },
  {
   "cell_type": "code",
   "execution_count": 21,
   "metadata": {},
   "outputs": [
    {
     "data": {
      "text/plain": [
       "<bound method Network.summary of <tensorflow.python.keras.engine.sequential.Sequential object at 0x000002650B1F3C48>>"
      ]
     },
     "execution_count": 21,
     "metadata": {},
     "output_type": "execute_result"
    }
   ],
   "source": [
    "model.summary"
   ]
  },
  {
   "cell_type": "code",
   "execution_count": 20,
   "metadata": {},
   "outputs": [
    {
     "name": "stdout",
     "output_type": "stream",
     "text": [
      "Epoch 1/100\n",
      "125/125 - 0s - loss: 43.6424 - accuracy: 0.6662\n",
      "Epoch 2/100\n",
      "125/125 - 0s - loss: 68.0866 - accuracy: 0.6807\n",
      "Epoch 3/100\n",
      "125/125 - 0s - loss: 64.5914 - accuracy: 0.6677\n",
      "Epoch 4/100\n",
      "125/125 - 0s - loss: 6.8264 - accuracy: 0.6905\n",
      "Epoch 5/100\n",
      "125/125 - 0s - loss: 5.8524 - accuracy: 0.7071\n",
      "Epoch 6/100\n",
      "125/125 - 0s - loss: 9.0832 - accuracy: 0.6863\n",
      "Epoch 7/100\n",
      "125/125 - 0s - loss: 3.3110 - accuracy: 0.7006\n",
      "Epoch 8/100\n",
      "125/125 - 0s - loss: 18.9086 - accuracy: 0.6948\n",
      "Epoch 9/100\n",
      "125/125 - 1s - loss: 2.3387 - accuracy: 0.7049\n",
      "Epoch 10/100\n",
      "125/125 - 0s - loss: 2.7520 - accuracy: 0.7260\n",
      "Epoch 11/100\n",
      "125/125 - 0s - loss: 5.1489 - accuracy: 0.7217\n",
      "Epoch 12/100\n",
      "125/125 - 0s - loss: 2.2042 - accuracy: 0.7386\n",
      "Epoch 13/100\n",
      "125/125 - 0s - loss: 3.4643 - accuracy: 0.7031\n",
      "Epoch 14/100\n",
      "125/125 - 0s - loss: 1.1732 - accuracy: 0.7318\n",
      "Epoch 15/100\n",
      "125/125 - 0s - loss: 0.7122 - accuracy: 0.7815\n",
      "Epoch 16/100\n",
      "125/125 - 0s - loss: 2.3049 - accuracy: 0.7486\n",
      "Epoch 17/100\n",
      "125/125 - 0s - loss: 3.2584 - accuracy: 0.7494\n",
      "Epoch 18/100\n",
      "125/125 - 0s - loss: 1.3863 - accuracy: 0.7506\n",
      "Epoch 19/100\n",
      "125/125 - 0s - loss: 1.0037 - accuracy: 0.7416\n",
      "Epoch 20/100\n",
      "125/125 - 0s - loss: 0.7014 - accuracy: 0.7637\n",
      "Epoch 21/100\n",
      "125/125 - 0s - loss: 0.4995 - accuracy: 0.7883\n",
      "Epoch 22/100\n",
      "125/125 - 0s - loss: 0.4796 - accuracy: 0.8042\n",
      "Epoch 23/100\n",
      "125/125 - 0s - loss: 0.5990 - accuracy: 0.8044\n",
      "Epoch 24/100\n",
      "125/125 - 0s - loss: 0.5364 - accuracy: 0.8079\n",
      "Epoch 25/100\n",
      "125/125 - 0s - loss: 1.9980 - accuracy: 0.8032\n",
      "Epoch 26/100\n",
      "125/125 - 0s - loss: 0.6676 - accuracy: 0.8218\n",
      "Epoch 27/100\n",
      "125/125 - 0s - loss: 0.3882 - accuracy: 0.8361\n",
      "Epoch 28/100\n",
      "125/125 - 0s - loss: 0.3759 - accuracy: 0.8416\n",
      "Epoch 29/100\n",
      "125/125 - 0s - loss: 0.4171 - accuracy: 0.8379\n",
      "Epoch 30/100\n",
      "125/125 - 0s - loss: 0.5523 - accuracy: 0.8047\n",
      "Epoch 31/100\n",
      "125/125 - 0s - loss: 0.3864 - accuracy: 0.8283\n",
      "Epoch 32/100\n",
      "125/125 - 0s - loss: 0.6135 - accuracy: 0.8265\n",
      "Epoch 33/100\n",
      "125/125 - 0s - loss: 0.4926 - accuracy: 0.8331\n",
      "Epoch 34/100\n",
      "125/125 - 0s - loss: 0.3708 - accuracy: 0.8381\n",
      "Epoch 35/100\n",
      "125/125 - 0s - loss: 0.3506 - accuracy: 0.8436\n",
      "Epoch 36/100\n",
      "125/125 - 0s - loss: 0.3498 - accuracy: 0.8431\n",
      "Epoch 37/100\n",
      "125/125 - 0s - loss: 0.3686 - accuracy: 0.8409\n",
      "Epoch 38/100\n",
      "125/125 - 0s - loss: 0.3664 - accuracy: 0.8406\n",
      "Epoch 39/100\n",
      "125/125 - 0s - loss: 0.3612 - accuracy: 0.8469\n",
      "Epoch 40/100\n",
      "125/125 - 0s - loss: 0.3570 - accuracy: 0.8429\n",
      "Epoch 41/100\n",
      "125/125 - 0s - loss: 0.3424 - accuracy: 0.8532\n",
      "Epoch 42/100\n",
      "125/125 - 0s - loss: 0.3414 - accuracy: 0.8529\n",
      "Epoch 43/100\n",
      "125/125 - 0s - loss: 0.3430 - accuracy: 0.8472\n",
      "Epoch 44/100\n",
      "125/125 - 1s - loss: 0.3320 - accuracy: 0.8587\n",
      "Epoch 45/100\n",
      "125/125 - 0s - loss: 0.3330 - accuracy: 0.8499\n",
      "Epoch 46/100\n",
      "125/125 - 0s - loss: 0.3633 - accuracy: 0.8472\n",
      "Epoch 47/100\n",
      "125/125 - 0s - loss: 0.3861 - accuracy: 0.8532\n",
      "Epoch 48/100\n",
      "125/125 - 0s - loss: 0.3712 - accuracy: 0.8482\n",
      "Epoch 49/100\n",
      "125/125 - 0s - loss: 0.3966 - accuracy: 0.8414\n",
      "Epoch 50/100\n",
      "125/125 - 0s - loss: 0.3874 - accuracy: 0.8411\n",
      "Epoch 51/100\n",
      "125/125 - 0s - loss: 0.3840 - accuracy: 0.8399\n",
      "Epoch 52/100\n",
      "125/125 - 0s - loss: 0.5144 - accuracy: 0.8336\n",
      "Epoch 53/100\n",
      "125/125 - 0s - loss: 0.3805 - accuracy: 0.8446\n",
      "Epoch 54/100\n",
      "125/125 - 0s - loss: 0.3809 - accuracy: 0.8416\n",
      "Epoch 55/100\n",
      "125/125 - 0s - loss: 0.3783 - accuracy: 0.8434\n",
      "Epoch 56/100\n",
      "125/125 - 0s - loss: 0.3690 - accuracy: 0.8539\n",
      "Epoch 57/100\n",
      "125/125 - 0s - loss: 0.4010 - accuracy: 0.8411\n",
      "Epoch 58/100\n",
      "125/125 - 0s - loss: 0.4096 - accuracy: 0.8419\n",
      "Epoch 59/100\n",
      "125/125 - 0s - loss: 0.3937 - accuracy: 0.8449\n",
      "Epoch 60/100\n",
      "125/125 - 0s - loss: 0.3974 - accuracy: 0.8399\n",
      "Epoch 61/100\n",
      "125/125 - 0s - loss: 0.3737 - accuracy: 0.8557\n",
      "Epoch 62/100\n",
      "125/125 - 0s - loss: 0.3742 - accuracy: 0.8570\n",
      "Epoch 63/100\n",
      "125/125 - 0s - loss: 0.3807 - accuracy: 0.8560\n",
      "Epoch 64/100\n",
      "125/125 - 0s - loss: 0.3670 - accuracy: 0.8514\n",
      "Epoch 65/100\n",
      "125/125 - 0s - loss: 0.3977 - accuracy: 0.8406\n",
      "Epoch 66/100\n",
      "125/125 - 0s - loss: 0.6745 - accuracy: 0.7210\n",
      "Epoch 67/100\n",
      "125/125 - 0s - loss: 0.6391 - accuracy: 0.6606\n",
      "Epoch 68/100\n",
      "125/125 - 0s - loss: 0.6376 - accuracy: 0.6606\n",
      "Epoch 69/100\n",
      "125/125 - 0s - loss: 0.6274 - accuracy: 0.6606\n",
      "Epoch 70/100\n",
      "125/125 - 0s - loss: 0.6155 - accuracy: 0.6606\n",
      "Epoch 71/100\n",
      "125/125 - 0s - loss: 0.6043 - accuracy: 0.6606\n",
      "Epoch 72/100\n",
      "125/125 - 0s - loss: 0.5831 - accuracy: 0.6606\n",
      "Epoch 73/100\n",
      "125/125 - 0s - loss: 0.6212 - accuracy: 0.6606\n",
      "Epoch 74/100\n",
      "125/125 - 1s - loss: 0.5833 - accuracy: 0.6606\n",
      "Epoch 75/100\n",
      "125/125 - 0s - loss: 0.6756 - accuracy: 0.6596\n",
      "Epoch 76/100\n",
      "125/125 - 0s - loss: 0.6402 - accuracy: 0.6609\n",
      "Epoch 77/100\n",
      "125/125 - 0s - loss: 0.6795 - accuracy: 0.7413\n",
      "Epoch 78/100\n",
      "125/125 - 0s - loss: 0.4537 - accuracy: 0.8331\n",
      "Epoch 79/100\n",
      "125/125 - 0s - loss: 0.4360 - accuracy: 0.8311\n",
      "Epoch 80/100\n",
      "125/125 - 0s - loss: 0.4131 - accuracy: 0.8366\n",
      "Epoch 81/100\n",
      "125/125 - 0s - loss: 0.4018 - accuracy: 0.8509\n",
      "Epoch 82/100\n",
      "125/125 - 0s - loss: 0.4309 - accuracy: 0.8459\n",
      "Epoch 83/100\n",
      "125/125 - 0s - loss: 0.4718 - accuracy: 0.8079\n",
      "Epoch 84/100\n",
      "125/125 - 0s - loss: 0.3986 - accuracy: 0.8477\n",
      "Epoch 85/100\n",
      "125/125 - 0s - loss: 0.4086 - accuracy: 0.8431\n",
      "Epoch 86/100\n",
      "125/125 - 0s - loss: 0.4106 - accuracy: 0.8391\n",
      "Epoch 87/100\n",
      "125/125 - 0s - loss: 0.3867 - accuracy: 0.8474\n",
      "Epoch 88/100\n",
      "125/125 - 0s - loss: 0.3683 - accuracy: 0.8560\n",
      "Epoch 89/100\n",
      "125/125 - 0s - loss: 0.3785 - accuracy: 0.8565\n",
      "Epoch 90/100\n",
      "125/125 - 0s - loss: 0.3683 - accuracy: 0.8582\n",
      "Epoch 91/100\n",
      "125/125 - 0s - loss: 0.3653 - accuracy: 0.8582\n",
      "Epoch 92/100\n",
      "125/125 - 0s - loss: 0.3617 - accuracy: 0.8640\n",
      "Epoch 93/100\n",
      "125/125 - 0s - loss: 0.3889 - accuracy: 0.8409\n",
      "Epoch 94/100\n",
      "125/125 - 0s - loss: 0.3796 - accuracy: 0.8544\n",
      "Epoch 95/100\n",
      "125/125 - 0s - loss: 0.3696 - accuracy: 0.8602\n",
      "Epoch 96/100\n",
      "125/125 - 0s - loss: 0.3636 - accuracy: 0.8665\n",
      "Epoch 97/100\n",
      "125/125 - 0s - loss: 0.3660 - accuracy: 0.8524\n",
      "Epoch 98/100\n",
      "125/125 - 0s - loss: 0.3648 - accuracy: 0.8522\n",
      "Epoch 99/100\n",
      "125/125 - 0s - loss: 0.4062 - accuracy: 0.8366\n",
      "Epoch 100/100\n",
      "125/125 - 0s - loss: 0.3676 - accuracy: 0.8612\n"
     ]
    },
    {
     "data": {
      "text/plain": [
       "<tensorflow.python.keras.callbacks.History at 0x2650b3a0188>"
      ]
     },
     "execution_count": 20,
     "metadata": {},
     "output_type": "execute_result"
    }
   ],
   "source": [
    "# Use the training data to fit (train) the model\n",
    "model.fit(\n",
    "    X_train,\n",
    "    y_train,\n",
    "    epochs=100,\n",
    "    shuffle=True,\n",
    "    verbose=2\n",
    ")"
   ]
  },
  {
   "cell_type": "markdown",
   "metadata": {},
   "source": [
    "# Save the Model"
   ]
  },
  {
   "cell_type": "code",
   "execution_count": 22,
   "metadata": {},
   "outputs": [],
   "source": [
    "model.save(\"DL.h5\")"
   ]
  },
  {
   "cell_type": "markdown",
   "metadata": {},
   "source": [
    "# Evaluate the Model"
   ]
  },
  {
   "cell_type": "code",
   "execution_count": 25,
   "metadata": {},
   "outputs": [],
   "source": [
    "# Load the model\n",
    "from tensorflow.keras.models import load_model\n",
    "model = load_model(\"DL.h5\")"
   ]
  },
  {
   "cell_type": "code",
   "execution_count": 26,
   "metadata": {},
   "outputs": [
    {
     "name": "stdout",
     "output_type": "stream",
     "text": [
      "42/42 - 0s - loss: 0.3485 - accuracy: 0.8733\n",
      "Loss: 0.34851351380348206, Accuracy: 0.8733031749725342\n"
     ]
    }
   ],
   "source": [
    "# Evaluate the model using the training data\n",
    "model_loss, model_accuracy = model.evaluate(X_test, y_test, verbose=2)\n",
    "print(f\"Loss: {model_loss}, Accuracy: {model_accuracy}\")"
   ]
  },
  {
   "cell_type": "code",
   "execution_count": 30,
   "metadata": {},
   "outputs": [
    {
     "data": {
      "text/plain": [
       "array([  0.5181,   1.923 , 195.7   ,   1.37  , 386.    ,   5.23  ,\n",
       "         5.2   ])"
      ]
     },
     "execution_count": 30,
     "metadata": {},
     "output_type": "execute_result"
    }
   ],
   "source": [
    "X_train[0]"
   ]
  },
  {
   "cell_type": "code",
   "execution_count": 33,
   "metadata": {},
   "outputs": [
    {
     "data": {
      "text/plain": [
       "koi_impact          0.9640\n",
       "koi_duration        3.0898\n",
       "koi_depth         136.4000\n",
       "koi_prad            1.3000\n",
       "koi_teq          1384.0000\n",
       "koi_insol         866.2100\n",
       "koi_model_snr      18.9000\n",
       "Name: 1290, dtype: float64"
      ]
     },
     "execution_count": 33,
     "metadata": {},
     "output_type": "execute_result"
    }
   ],
   "source": [
    "X_test.iloc[0]"
   ]
  },
  {
   "cell_type": "code",
   "execution_count": 34,
   "metadata": {},
   "outputs": [
    {
     "data": {
      "text/plain": [
       "(1, 7)"
      ]
     },
     "execution_count": 34,
     "metadata": {},
     "output_type": "execute_result"
    }
   ],
   "source": [
    "# Grab just one data point to test with\n",
    "test = np.expand_dims(X_test.iloc[0], axis=0)\n",
    "test.shape"
   ]
  },
  {
   "cell_type": "code",
   "execution_count": 37,
   "metadata": {},
   "outputs": [
    {
     "name": "stdout",
     "output_type": "stream",
     "text": [
      "Predicted class: [3]\n"
     ]
    }
   ],
   "source": [
    "# Make a prediction. The result should be 5 - STANDING\n",
    "print(f\"Predicted class: {model.predict_classes(test)}\")"
   ]
  }
 ],
 "metadata": {
  "kernelspec": {
   "display_name": "Python 3",
   "language": "python",
   "name": "python3"
  },
  "language_info": {
   "codemirror_mode": {
    "name": "ipython",
    "version": 3
   },
   "file_extension": ".py",
   "mimetype": "text/x-python",
   "name": "python",
   "nbconvert_exporter": "python",
   "pygments_lexer": "ipython3",
   "version": "3.7.4"
  }
 },
 "nbformat": 4,
 "nbformat_minor": 2
}
